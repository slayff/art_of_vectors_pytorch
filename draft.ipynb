{
 "cells": [
  {
   "cell_type": "code",
   "execution_count": 34,
   "metadata": {},
   "outputs": [],
   "source": [
    "import torch\n",
    "import torch.nn as nn\n",
    "import torchvision\n",
    "import torchvision.models\n",
    "from torchvision.datasets import ImageNet\n",
    "\n",
    "import torch.autograd as autograd\n",
    "\n",
    "from matplotlib import pyplot as plt\n",
    "\n",
    "#delete\n",
    "import numpy as np\n",
    "from scipy.sparse.linalg import LinearOperator"
   ]
  },
  {
   "cell_type": "code",
   "execution_count": 2,
   "metadata": {},
   "outputs": [],
   "source": [
    "class ModelFeatureExtracter(nn.Module):\n",
    "    def __init__(self, model, layer):\n",
    "        super().__init__()\n",
    "        self.model = model\n",
    "        self.layer = layer\n",
    "        self.model.eval()\n",
    "        \n",
    "    def extract_layer_output(self, x):\n",
    "        outputs = []\n",
    "        def extracting_hook(module, input, output):\n",
    "            outputs.append(output)\n",
    "        \n",
    "        hook_handle = self.layer.register_forward_hook(extracting_hook)\n",
    "        \n",
    "        self.model(x)\n",
    "        \n",
    "        hook_handle.remove()\n",
    "        return outputs[-1]\n",
    "    \n",
    "    def forward(self, x):\n",
    "        with torch.no_grad():\n",
    "            return self.model(x)"
   ]
  },
  {
   "cell_type": "code",
   "execution_count": 21,
   "metadata": {},
   "outputs": [],
   "source": [
    "class JacobianOperator:\n",
    "    def __init__(self, img_batch, model_feature_extractor, input_dim, hidden_dim):\n",
    "        self.img_batch = img_batch\n",
    "        self.mfe = model_feature_extractor\n",
    "        self.input_dim = input_dim\n",
    "        self.hidden_dim = hidden_dim\n",
    "        \n",
    "    def _matvec_grad(self, img, vec):\n",
    "        w = torch.zeros(self.hidden_dim, requires_grad=True)\n",
    "        matvec_transposed = self._matvec_T_grad(img, w)\n",
    "        dotproduct = torch.matmul(matvec_transposed.flatten(), vec.flatten())\n",
    "        return autograd.grad(dotproduct, w)[0]\n",
    "\n",
    "    def _matvec_T_grad(self, img, vec):\n",
    "        img.requires_grad = True\n",
    "        layer_output = self.mfe.extract_layer_output(img)\n",
    "        dotproduct = torch.matmul(layer_output.flatten(), vec.flatten())\n",
    "        return autograd.grad(dotproduct, img, create_graph=True)[0]\n",
    "    \n",
    "    def matvec(self, vec):\n",
    "        output = []\n",
    "        for img in self.img_batch:\n",
    "            output.append(self._matvec_grad(img.unsqueeze(0), vec))\n",
    "        return torch.cat(output)\n",
    "    \n",
    "    def matvec_T(self, vec):\n",
    "        output = torch.zeros(self.input_dim)\n",
    "        vec_flatten = vec.reshape(-1, self.hidden_dim)\n",
    "        for img, vec in zip(self.img_batch, vec_flatten):\n",
    "            output += self._matvec_T_grad(img.unsqueeze(0), vec).flatten()\n",
    "        return output"
   ]
  },
  {
   "cell_type": "code",
   "execution_count": 55,
   "metadata": {},
   "outputs": [],
   "source": [
    "def psi(x, p=2):\n",
    "    return torch.sign(x) * torch.abs(x) ** (p - 1)\n",
    "\n",
    "\n",
    "def power_method(jac, p=2, q=2, maxiter=20):\n",
    "    v = torch.rand(jac.input_dim) - 0.5\n",
    "    v = v / torch.norm(v, p=p)\n",
    "    p2 = 1.0 / (1.0 - 1.0 / p)\n",
    "    \n",
    "    for i in range(maxiter):\n",
    "        Jv = jac.matvec(v)\n",
    "        v = psi(jac.matvec_T(psi(Jv, q)), p2)\n",
    "        v = v / torch.norm(v, p=p)\n",
    "        \n",
    "        s = torch.norm(jac.matvec(v), p=q)\n",
    "        print(i, s)\n",
    "    s = torch.norm(jac.matvec(v), p=q)\n",
    "    return v, s"
   ]
  },
  {
   "cell_type": "code",
   "execution_count": 67,
   "metadata": {
    "scrolled": false
   },
   "outputs": [],
   "source": [
    "model = torchvision.models.vgg16(pretrained=True)\n",
    "layer_to_extract_from = model.features[9]\n",
    "me = ModelFeatureExtracter(model, layer_to_extract_from)"
   ]
  },
  {
   "cell_type": "code",
   "execution_count": 68,
   "metadata": {},
   "outputs": [],
   "source": [
    "test_x = torch.rand((10, 3, 224, 224))"
   ]
  },
  {
   "cell_type": "code",
   "execution_count": 69,
   "metadata": {},
   "outputs": [],
   "source": [
    "input_dim = torch.prod(torch.tensor(test_x.shape[1:])).item()\n",
    "hidden_dim = torch.prod(torch.tensor(me.extract_layer_output(test_x).shape[1:])).item()"
   ]
  },
  {
   "cell_type": "code",
   "execution_count": 70,
   "metadata": {},
   "outputs": [],
   "source": [
    "jac = JacobianOperator(test_x, me, input_dim, hidden_dim)"
   ]
  },
  {
   "cell_type": "code",
   "execution_count": 71,
   "metadata": {
    "scrolled": true
   },
   "outputs": [
    {
     "name": "stdout",
     "output_type": "stream",
     "text": [
      "0\n",
      "0 tensor(617.3176)\n",
      "1\n",
      "1 tensor(674.7598)\n",
      "2\n",
      "2 tensor(695.1417)\n",
      "3\n",
      "3 tensor(706.9138)\n",
      "4\n",
      "4 tensor(713.9587)\n",
      "5\n",
      "5 tensor(719.6979)\n",
      "6\n",
      "6 tensor(723.5002)\n",
      "7\n",
      "7 tensor(726.5179)\n",
      "8\n",
      "8 tensor(729.3689)\n",
      "9\n",
      "9 tensor(731.8806)\n",
      "10\n",
      "10 tensor(733.6642)\n",
      "11\n",
      "11 tensor(735.2002)\n",
      "12\n",
      "12 tensor(736.2130)\n",
      "13\n",
      "13 tensor(737.3615)\n",
      "14\n",
      "14 tensor(738.3599)\n",
      "15\n",
      "15 tensor(739.1160)\n",
      "16\n",
      "16 tensor(739.9964)\n",
      "17\n",
      "17 tensor(740.6457)\n",
      "18\n",
      "18 tensor(740.9561)\n",
      "19\n",
      "19 tensor(741.3491)\n"
     ]
    }
   ],
   "source": [
    "v, s = power_method(jac, p=float('inf'), q=10)"
   ]
  },
  {
   "cell_type": "code",
   "execution_count": 72,
   "metadata": {},
   "outputs": [
    {
     "data": {
      "text/plain": [
       "tensor(1., grad_fn=<MaxBackward1>)"
      ]
     },
     "execution_count": 72,
     "metadata": {},
     "output_type": "execute_result"
    }
   ],
   "source": [
    "v.max()"
   ]
  },
  {
   "cell_type": "code",
   "execution_count": 73,
   "metadata": {},
   "outputs": [
    {
     "data": {
      "text/plain": [
       "tensor([  3, 224, 224])"
      ]
     },
     "execution_count": 73,
     "metadata": {},
     "output_type": "execute_result"
    }
   ],
   "source": [
    "torch.tensor(test_x.shape[1:])"
   ]
  },
  {
   "cell_type": "code",
   "execution_count": 81,
   "metadata": {},
   "outputs": [
    {
     "name": "stderr",
     "output_type": "stream",
     "text": [
      "Clipping input data to the valid range for imshow with RGB data ([0..1] for floats or [0..255] for integers).\n"
     ]
    },
    {
     "data": {
      "text/plain": [
       "<matplotlib.image.AxesImage at 0x7f752085f208>"
      ]
     },
     "execution_count": 81,
     "metadata": {},
     "output_type": "execute_result"
    },
    {
     "data": {
      "image/png": "[encoded data removed]",
      "text/plain": [
       "<Figure size 432x288 with 1 Axes>"
      ]
     },
     "metadata": {
      "needs_background": "light"
     },
     "output_type": "display_data"
    }
   ],
   "source": [
    "tt = v / torch.norm(v, p=float('inf'))\n",
    "pic = tt.reshape(list(test_x.shape[1:])).detach().permute(1, 2, 0).numpy()\n",
    "plt.imshow(10 * pic)"
   ]
  },
  {
   "cell_type": "raw",
   "metadata": {},
   "source": []
  },
  {
   "cell_type": "code",
   "execution_count": null,
   "metadata": {},
   "outputs": [],
   "source": []
  },
  {
   "cell_type": "code",
   "execution_count": null,
   "metadata": {},
   "outputs": [],
   "source": []
  },
  {
   "cell_type": "code",
   "execution_count": null,
   "metadata": {},
   "outputs": [],
   "source": []
  },
  {
   "cell_type": "code",
   "execution_count": null,
   "metadata": {},
   "outputs": [],
   "source": []
  },
  {
   "cell_type": "code",
   "execution_count": null,
   "metadata": {},
   "outputs": [],
   "source": []
  },
  {
   "cell_type": "code",
   "execution_count": null,
   "metadata": {},
   "outputs": [],
   "source": []
  },
  {
   "cell_type": "code",
   "execution_count": null,
   "metadata": {},
   "outputs": [],
   "source": []
  },
  {
   "cell_type": "code",
   "execution_count": null,
   "metadata": {},
   "outputs": [],
   "source": []
  },
  {
   "cell_type": "code",
   "execution_count": null,
   "metadata": {},
   "outputs": [],
   "source": []
  },
  {
   "cell_type": "code",
   "execution_count": 3,
   "metadata": {},
   "outputs": [],
   "source": [
    "# def matvec_transposed(inp, model, vector):\n",
    "#     inp.requires_grad = True\n",
    "#     layer_output = model.extract_layer_output(inp)\n",
    "#     dotproduct = torch.matmul(layer_output.flatten(), vector.flatten())\n",
    "#     return autograd.grad(dotproduct, inp, create_graph=True)[0]\n",
    "\n",
    "\n",
    "# def matvec(inp, model, vector, hidden_dim):\n",
    "#     w = torch.zeros(hidden_dim, requires_grad=True)\n",
    "#     matvec_transposed = get_matvec_transposed(inp, model, w)\n",
    "#     dotproduct = torch.matmul(matvec_transposed.flatten(), vector.flatten())\n",
    "#     return autograd.grad(dotproduct, w)[0]"
   ]
  },
  {
   "cell_type": "code",
   "execution_count": null,
   "metadata": {},
   "outputs": [],
   "source": [
    "me.extract_layer_output(test_x).shape"
   ]
  },
  {
   "cell_type": "code",
   "execution_count": null,
   "metadata": {},
   "outputs": [],
   "source": [
    "tr_vector = torch.rand((1, hidden_dim))\n",
    "vector = torch.rand((1, input_dim))"
   ]
  },
  {
   "cell_type": "code",
   "execution_count": null,
   "metadata": {},
   "outputs": [],
   "source": [
    "mv_tr = get_matvec_transposed(test_x, me, tr_vector)"
   ]
  },
  {
   "cell_type": "code",
   "execution_count": null,
   "metadata": {},
   "outputs": [],
   "source": [
    "mv_tr.shape"
   ]
  },
  {
   "cell_type": "code",
   "execution_count": null,
   "metadata": {},
   "outputs": [],
   "source": [
    "mv = get_matvec(test_x, me, vector, hidden_dim)"
   ]
  },
  {
   "cell_type": "code",
   "execution_count": null,
   "metadata": {},
   "outputs": [],
   "source": [
    "mv.shape"
   ]
  },
  {
   "cell_type": "code",
   "execution_count": null,
   "metadata": {},
   "outputs": [],
   "source": []
  }
 ],
 "metadata": {
  "kernelspec": {
   "display_name": "Python 3",
   "language": "python",
   "name": "python3"
  },
  "language_info": {
   "codemirror_mode": {
    "name": "ipython",
    "version": 3
   },
   "file_extension": ".py",
   "mimetype": "text/x-python",
   "name": "python",
   "nbconvert_exporter": "python",
   "pygments_lexer": "ipython3",
   "version": "3.7.0"
  }
 },
 "nbformat": 4,
 "nbformat_minor": 2
}
